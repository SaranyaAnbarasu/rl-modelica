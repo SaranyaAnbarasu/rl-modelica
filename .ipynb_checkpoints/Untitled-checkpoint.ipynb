{
 "cells": [
  {
   "cell_type": "code",
   "execution_count": 2,
   "id": "41564b19-d8e3-4fa0-9f32-d303d58da5b8",
   "metadata": {
    "tags": []
   },
   "outputs": [],
   "source": [
    "import pandas as pd\n",
    "import torch\n",
    "import torch.nn.functional as F\n",
    "import pytorch_lightning\n",
    "import numpy"
   ]
  },
  {
   "cell_type": "code",
   "execution_count": 8,
   "id": "65bee58e-0294-4261-aa63-6a2c1d95fabb",
   "metadata": {
    "tags": []
   },
   "outputs": [],
   "source": [
    "\n",
    "# Load the data\n",
    "electrical_data = pd.read_csv('ElectricalGroupResults.csv')\n",
    "\n",
    "electrical_data.drop_duplicates(subset = ['Time'], inplace = True)\n",
    "electrical_data.reset_index(drop = True, inplace = True)\n",
    "chiller_data = pd.read_csv('chillerGroupResults.csv').iloc[:electrical_data.shape[0]]\n",
    "chiller_data.index = electrical_data.index\n",
    "boiler_data = pd.read_csv('HeatingGroupResults.csv').iloc[:electrical_data.shape[0]]\n",
    "boiler_data.index = electrical_data.index\n",
    "\n"
   ]
  },
  {
   "cell_type": "code",
   "execution_count": null,
   "id": "b24c6587-9a70-4cb6-940d-ac4089fd64da",
   "metadata": {},
   "outputs": [],
   "source": []
  }
 ],
 "metadata": {
  "kernelspec": {
   "display_name": "Python [conda env:pandagym]",
   "language": "python",
   "name": "conda-env-pandagym-py"
  },
  "language_info": {
   "codemirror_mode": {
    "name": "ipython",
    "version": 3
   },
   "file_extension": ".py",
   "mimetype": "text/x-python",
   "name": "python",
   "nbconvert_exporter": "python",
   "pygments_lexer": "ipython3",
   "version": "3.8.18"
  }
 },
 "nbformat": 4,
 "nbformat_minor": 5
}

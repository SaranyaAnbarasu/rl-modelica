{
 "cells": [
  {
   "cell_type": "code",
   "execution_count": 1,
   "id": "e2577f25-5881-450b-a364-f937186ca46e",
   "metadata": {
    "tags": []
   },
   "outputs": [
    {
     "name": "stdout",
     "output_type": "stream",
     "text": [
      "(8761, 12)\n",
      "(8761, 12)\n"
     ]
    },
    {
     "data": {
      "text/html": [
       "<div>\n",
       "<style scoped>\n",
       "    .dataframe tbody tr th:only-of-type {\n",
       "        vertical-align: middle;\n",
       "    }\n",
       "\n",
       "    .dataframe tbody tr th {\n",
       "        vertical-align: top;\n",
       "    }\n",
       "\n",
       "    .dataframe thead th {\n",
       "        text-align: right;\n",
       "    }\n",
       "</style>\n",
       "<table border=\"1\" class=\"dataframe\">\n",
       "  <thead>\n",
       "    <tr style=\"text-align: right;\">\n",
       "      <th></th>\n",
       "      <th>Time</th>\n",
       "      <th>electricalGroup.Ppv</th>\n",
       "      <th>electricalGroup.Ir</th>\n",
       "      <th>electricalGroup.Pdem</th>\n",
       "      <th>electricalGroup.Ppla</th>\n",
       "      <th>electricalGroup.Pgen</th>\n",
       "      <th>electricalGroup.Soc</th>\n",
       "      <th>electricalGroup.Pbat</th>\n",
       "      <th>electricalGroup.Pgri.real</th>\n",
       "      <th>electricalGroup.batCon1.chaCyc.active</th>\n",
       "      <th>electricalGroup.batCon1.staBy.active</th>\n",
       "      <th>electricalGroup.batCon1.disCyc.active</th>\n",
       "    </tr>\n",
       "  </thead>\n",
       "  <tbody>\n",
       "    <tr>\n",
       "      <th>0</th>\n",
       "      <td>0</td>\n",
       "      <td>0.0</td>\n",
       "      <td>0.0</td>\n",
       "      <td>-10994957.0</td>\n",
       "      <td>0.0</td>\n",
       "      <td>7196211.0</td>\n",
       "      <td>0.50</td>\n",
       "      <td>0.0</td>\n",
       "      <td>3798746.50</td>\n",
       "      <td>0.0</td>\n",
       "      <td>0.0</td>\n",
       "      <td>1.0</td>\n",
       "    </tr>\n",
       "    <tr>\n",
       "      <th>1</th>\n",
       "      <td>3600</td>\n",
       "      <td>0.0</td>\n",
       "      <td>0.0</td>\n",
       "      <td>-10955582.0</td>\n",
       "      <td>0.0</td>\n",
       "      <td>7400128.0</td>\n",
       "      <td>0.49</td>\n",
       "      <td>-3557542.0</td>\n",
       "      <td>-2087.75</td>\n",
       "      <td>0.0</td>\n",
       "      <td>0.0</td>\n",
       "      <td>1.0</td>\n",
       "    </tr>\n",
       "    <tr>\n",
       "      <th>2</th>\n",
       "      <td>7200</td>\n",
       "      <td>0.0</td>\n",
       "      <td>0.0</td>\n",
       "      <td>-10891327.0</td>\n",
       "      <td>0.0</td>\n",
       "      <td>7633626.0</td>\n",
       "      <td>0.49</td>\n",
       "      <td>-3260256.0</td>\n",
       "      <td>-2555.10</td>\n",
       "      <td>0.0</td>\n",
       "      <td>0.0</td>\n",
       "      <td>1.0</td>\n",
       "    </tr>\n",
       "    <tr>\n",
       "      <th>3</th>\n",
       "      <td>10800</td>\n",
       "      <td>0.0</td>\n",
       "      <td>0.0</td>\n",
       "      <td>-10986413.0</td>\n",
       "      <td>0.0</td>\n",
       "      <td>7851213.5</td>\n",
       "      <td>0.48</td>\n",
       "      <td>-3136251.2</td>\n",
       "      <td>-1051.21</td>\n",
       "      <td>0.0</td>\n",
       "      <td>0.0</td>\n",
       "      <td>1.0</td>\n",
       "    </tr>\n",
       "    <tr>\n",
       "      <th>4</th>\n",
       "      <td>14400</td>\n",
       "      <td>0.0</td>\n",
       "      <td>0.0</td>\n",
       "      <td>-11105312.0</td>\n",
       "      <td>0.0</td>\n",
       "      <td>8088488.5</td>\n",
       "      <td>0.47</td>\n",
       "      <td>-3017839.8</td>\n",
       "      <td>-1015.82</td>\n",
       "      <td>0.0</td>\n",
       "      <td>0.0</td>\n",
       "      <td>1.0</td>\n",
       "    </tr>\n",
       "  </tbody>\n",
       "</table>\n",
       "</div>"
      ],
      "text/plain": [
       "    Time  electricalGroup.Ppv  electricalGroup.Ir  electricalGroup.Pdem  \\\n",
       "0      0                  0.0                 0.0           -10994957.0   \n",
       "1   3600                  0.0                 0.0           -10955582.0   \n",
       "2   7200                  0.0                 0.0           -10891327.0   \n",
       "3  10800                  0.0                 0.0           -10986413.0   \n",
       "4  14400                  0.0                 0.0           -11105312.0   \n",
       "\n",
       "   electricalGroup.Ppla  electricalGroup.Pgen  electricalGroup.Soc  \\\n",
       "0                   0.0             7196211.0                 0.50   \n",
       "1                   0.0             7400128.0                 0.49   \n",
       "2                   0.0             7633626.0                 0.49   \n",
       "3                   0.0             7851213.5                 0.48   \n",
       "4                   0.0             8088488.5                 0.47   \n",
       "\n",
       "   electricalGroup.Pbat  electricalGroup.Pgri.real  \\\n",
       "0                   0.0                 3798746.50   \n",
       "1            -3557542.0                   -2087.75   \n",
       "2            -3260256.0                   -2555.10   \n",
       "3            -3136251.2                   -1051.21   \n",
       "4            -3017839.8                   -1015.82   \n",
       "\n",
       "   electricalGroup.batCon1.chaCyc.active  \\\n",
       "0                                    0.0   \n",
       "1                                    0.0   \n",
       "2                                    0.0   \n",
       "3                                    0.0   \n",
       "4                                    0.0   \n",
       "\n",
       "   electricalGroup.batCon1.staBy.active  electricalGroup.batCon1.disCyc.active  \n",
       "0                                   0.0                                    1.0  \n",
       "1                                   0.0                                    1.0  \n",
       "2                                   0.0                                    1.0  \n",
       "3                                   0.0                                    1.0  \n",
       "4                                   0.0                                    1.0  "
      ]
     },
     "execution_count": 1,
     "metadata": {},
     "output_type": "execute_result"
    }
   ],
   "source": [
    "## ANN chiller group model\n",
    "import pandas as pd\n",
    "\n",
    "# Load the data\n",
    "data = pd.read_csv('ElectricalGroupResults.csv')\n",
    "\n",
    "# Display the first few rows of the dataset\n",
    "print(data.shape)\n",
    "data.drop_duplicates(subset = ['Time'], inplace = True)\n",
    "print(data.shape)\n",
    "data.reset_index(drop = True, inplace = True)\n",
    "data.head()\n"
   ]
  },
  {
   "cell_type": "code",
   "execution_count": 2,
   "id": "004e6200",
   "metadata": {
    "tags": []
   },
   "outputs": [
    {
     "data": {
      "text/html": [
       "<div>\n",
       "<style scoped>\n",
       "    .dataframe tbody tr th:only-of-type {\n",
       "        vertical-align: middle;\n",
       "    }\n",
       "\n",
       "    .dataframe tbody tr th {\n",
       "        vertical-align: top;\n",
       "    }\n",
       "\n",
       "    .dataframe thead th {\n",
       "        text-align: right;\n",
       "    }\n",
       "</style>\n",
       "<table border=\"1\" class=\"dataframe\">\n",
       "  <thead>\n",
       "    <tr style=\"text-align: right;\">\n",
       "      <th></th>\n",
       "      <th>Time</th>\n",
       "      <th>electricalGroup.Ppv</th>\n",
       "      <th>electricalGroup.Ir</th>\n",
       "      <th>electricalGroup.Pdem</th>\n",
       "      <th>electricalGroup.Ppla</th>\n",
       "      <th>electricalGroup.Pgen</th>\n",
       "      <th>electricalGroup.Soc</th>\n",
       "      <th>electricalGroup.Pbat</th>\n",
       "      <th>electricalGroup.Pgri.real</th>\n",
       "      <th>electricalGroup.batCon1.chaCyc.active</th>\n",
       "      <th>electricalGroup.batCon1.staBy.active</th>\n",
       "      <th>electricalGroup.batCon1.disCyc.active</th>\n",
       "    </tr>\n",
       "  </thead>\n",
       "  <tbody>\n",
       "    <tr>\n",
       "      <th>0</th>\n",
       "      <td>0</td>\n",
       "      <td>0.0</td>\n",
       "      <td>0.0</td>\n",
       "      <td>-10994957.0</td>\n",
       "      <td>0.0</td>\n",
       "      <td>7196211.0</td>\n",
       "      <td>0.25</td>\n",
       "      <td>0.0</td>\n",
       "      <td>3798746.50</td>\n",
       "      <td>0.0</td>\n",
       "      <td>0.0</td>\n",
       "      <td>1.0</td>\n",
       "    </tr>\n",
       "    <tr>\n",
       "      <th>1</th>\n",
       "      <td>3600</td>\n",
       "      <td>0.0</td>\n",
       "      <td>0.0</td>\n",
       "      <td>-10955582.0</td>\n",
       "      <td>0.0</td>\n",
       "      <td>7400128.0</td>\n",
       "      <td>0.25</td>\n",
       "      <td>-1571770.8</td>\n",
       "      <td>-2087.75</td>\n",
       "      <td>0.0</td>\n",
       "      <td>0.0</td>\n",
       "      <td>1.0</td>\n",
       "    </tr>\n",
       "    <tr>\n",
       "      <th>2</th>\n",
       "      <td>7200</td>\n",
       "      <td>0.0</td>\n",
       "      <td>0.0</td>\n",
       "      <td>-10891327.0</td>\n",
       "      <td>0.0</td>\n",
       "      <td>7633626.0</td>\n",
       "      <td>0.25</td>\n",
       "      <td>-1571770.8</td>\n",
       "      <td>-2555.10</td>\n",
       "      <td>0.0</td>\n",
       "      <td>0.0</td>\n",
       "      <td>1.0</td>\n",
       "    </tr>\n",
       "    <tr>\n",
       "      <th>3</th>\n",
       "      <td>10800</td>\n",
       "      <td>0.0</td>\n",
       "      <td>0.0</td>\n",
       "      <td>-10986413.0</td>\n",
       "      <td>0.0</td>\n",
       "      <td>7851213.5</td>\n",
       "      <td>0.25</td>\n",
       "      <td>-1571770.8</td>\n",
       "      <td>-1051.21</td>\n",
       "      <td>0.0</td>\n",
       "      <td>0.0</td>\n",
       "      <td>1.0</td>\n",
       "    </tr>\n",
       "    <tr>\n",
       "      <th>4</th>\n",
       "      <td>14400</td>\n",
       "      <td>0.0</td>\n",
       "      <td>0.0</td>\n",
       "      <td>-11105312.0</td>\n",
       "      <td>0.0</td>\n",
       "      <td>8088488.5</td>\n",
       "      <td>0.25</td>\n",
       "      <td>-1571770.8</td>\n",
       "      <td>-1015.82</td>\n",
       "      <td>0.0</td>\n",
       "      <td>0.0</td>\n",
       "      <td>1.0</td>\n",
       "    </tr>\n",
       "  </tbody>\n",
       "</table>\n",
       "</div>"
      ],
      "text/plain": [
       "    Time  electricalGroup.Ppv  electricalGroup.Ir  electricalGroup.Pdem  \\\n",
       "0      0                  0.0                 0.0           -10994957.0   \n",
       "1   3600                  0.0                 0.0           -10955582.0   \n",
       "2   7200                  0.0                 0.0           -10891327.0   \n",
       "3  10800                  0.0                 0.0           -10986413.0   \n",
       "4  14400                  0.0                 0.0           -11105312.0   \n",
       "\n",
       "   electricalGroup.Ppla  electricalGroup.Pgen  electricalGroup.Soc  \\\n",
       "0                   0.0             7196211.0                 0.25   \n",
       "1                   0.0             7400128.0                 0.25   \n",
       "2                   0.0             7633626.0                 0.25   \n",
       "3                   0.0             7851213.5                 0.25   \n",
       "4                   0.0             8088488.5                 0.25   \n",
       "\n",
       "   electricalGroup.Pbat  electricalGroup.Pgri.real  \\\n",
       "0                   0.0                 3798746.50   \n",
       "1            -1571770.8                   -2087.75   \n",
       "2            -1571770.8                   -2555.10   \n",
       "3            -1571770.8                   -1051.21   \n",
       "4            -1571770.8                   -1015.82   \n",
       "\n",
       "   electricalGroup.batCon1.chaCyc.active  \\\n",
       "0                                    0.0   \n",
       "1                                    0.0   \n",
       "2                                    0.0   \n",
       "3                                    0.0   \n",
       "4                                    0.0   \n",
       "\n",
       "   electricalGroup.batCon1.staBy.active  electricalGroup.batCon1.disCyc.active  \n",
       "0                                   0.0                                    1.0  \n",
       "1                                   0.0                                    1.0  \n",
       "2                                   0.0                                    1.0  \n",
       "3                                   0.0                                    1.0  \n",
       "4                                   0.0                                    1.0  "
      ]
     },
     "execution_count": 2,
     "metadata": {},
     "output_type": "execute_result"
    }
   ],
   "source": [
    "# Outlier clipping\n",
    "inputs = ['electricalGroup.Ir', 'electricalGroup.Pdem', 'electricalGroup.Ppla', 'electricalGroup.Pgen'] ##States and actions\n",
    "outputs = ['electricalGroup.Ppv', 'electricalGroup.Soc', 'electricalGroup.Pbat', 'electricalGroup.Pgri.real'] \n",
    "\n",
    "columns = inputs + outputs\n",
    "\n",
    "mean = data[columns].mean()\n",
    "q1 = data[columns].quantile(0.25)\n",
    "q3 = data[columns].quantile(0.75)\n",
    "iqr = q3 - q1\n",
    "data[columns] = data[columns].clip(q1 - 1.5*iqr, q3 + 1.5*iqr, axis = 1)\n",
    "data.head()"
   ]
  },
  {
   "cell_type": "code",
   "execution_count": null,
   "id": "aabf9c67-81ff-4953-bb4a-b10ecd21736e",
   "metadata": {},
   "outputs": [],
   "source": []
  },
  {
   "cell_type": "code",
   "execution_count": 3,
   "id": "64ae0903-efb6-47e1-b3ca-07b92ce1f813",
   "metadata": {
    "tags": []
   },
   "outputs": [],
   "source": [
    "# Define inputs and outputs\n",
    "##ANN outputs\n",
    "\n",
    "# Create input and output datasets\n",
    "X = pd.concat([data[inputs].iloc[1:].reset_index(drop = True), data[outputs].iloc[:-1]], axis=1)\n",
    "y = data[outputs].iloc[1:]\n",
    "\n",
    "X.index = data.Time[1:]\n",
    "y.index = data.Time[1:]\n",
    "# X = X.iloc[1:]\n",
    "# X = pd.concat([X, y.iloc[:-1]], axis=1, ignore_index=True)"
   ]
  },
  {
   "cell_type": "code",
   "execution_count": 4,
   "id": "c782d83a-2703-40de-91a2-e78795ad9688",
   "metadata": {
    "tags": []
   },
   "outputs": [
    {
     "data": {
      "text/html": [
       "<div>\n",
       "<style scoped>\n",
       "    .dataframe tbody tr th:only-of-type {\n",
       "        vertical-align: middle;\n",
       "    }\n",
       "\n",
       "    .dataframe tbody tr th {\n",
       "        vertical-align: top;\n",
       "    }\n",
       "\n",
       "    .dataframe thead th {\n",
       "        text-align: right;\n",
       "    }\n",
       "</style>\n",
       "<table border=\"1\" class=\"dataframe\">\n",
       "  <thead>\n",
       "    <tr style=\"text-align: right;\">\n",
       "      <th></th>\n",
       "      <th>electricalGroup.Ir</th>\n",
       "      <th>electricalGroup.Pdem</th>\n",
       "      <th>electricalGroup.Ppla</th>\n",
       "      <th>electricalGroup.Pgen</th>\n",
       "      <th>electricalGroup.Ppv</th>\n",
       "      <th>electricalGroup.Soc</th>\n",
       "      <th>electricalGroup.Pbat</th>\n",
       "      <th>electricalGroup.Pgri.real</th>\n",
       "    </tr>\n",
       "    <tr>\n",
       "      <th>Time</th>\n",
       "      <th></th>\n",
       "      <th></th>\n",
       "      <th></th>\n",
       "      <th></th>\n",
       "      <th></th>\n",
       "      <th></th>\n",
       "      <th></th>\n",
       "      <th></th>\n",
       "    </tr>\n",
       "  </thead>\n",
       "  <tbody>\n",
       "    <tr>\n",
       "      <th>3600</th>\n",
       "      <td>0.0</td>\n",
       "      <td>-10955582.0</td>\n",
       "      <td>0.0</td>\n",
       "      <td>7400128.0</td>\n",
       "      <td>0.0</td>\n",
       "      <td>0.25</td>\n",
       "      <td>0.0</td>\n",
       "      <td>3798746.50</td>\n",
       "    </tr>\n",
       "    <tr>\n",
       "      <th>7200</th>\n",
       "      <td>0.0</td>\n",
       "      <td>-10891327.0</td>\n",
       "      <td>0.0</td>\n",
       "      <td>7633626.0</td>\n",
       "      <td>0.0</td>\n",
       "      <td>0.25</td>\n",
       "      <td>-1571770.8</td>\n",
       "      <td>-2087.75</td>\n",
       "    </tr>\n",
       "    <tr>\n",
       "      <th>10800</th>\n",
       "      <td>0.0</td>\n",
       "      <td>-10986413.0</td>\n",
       "      <td>0.0</td>\n",
       "      <td>7851213.5</td>\n",
       "      <td>0.0</td>\n",
       "      <td>0.25</td>\n",
       "      <td>-1571770.8</td>\n",
       "      <td>-2555.10</td>\n",
       "    </tr>\n",
       "    <tr>\n",
       "      <th>14400</th>\n",
       "      <td>0.0</td>\n",
       "      <td>-11105312.0</td>\n",
       "      <td>0.0</td>\n",
       "      <td>8088488.5</td>\n",
       "      <td>0.0</td>\n",
       "      <td>0.25</td>\n",
       "      <td>-1571770.8</td>\n",
       "      <td>-1051.21</td>\n",
       "    </tr>\n",
       "    <tr>\n",
       "      <th>18000</th>\n",
       "      <td>0.0</td>\n",
       "      <td>-11151833.0</td>\n",
       "      <td>0.0</td>\n",
       "      <td>8273101.5</td>\n",
       "      <td>0.0</td>\n",
       "      <td>0.25</td>\n",
       "      <td>-1571770.8</td>\n",
       "      <td>-1015.82</td>\n",
       "    </tr>\n",
       "  </tbody>\n",
       "</table>\n",
       "</div>"
      ],
      "text/plain": [
       "       electricalGroup.Ir  electricalGroup.Pdem  electricalGroup.Ppla  \\\n",
       "Time                                                                    \n",
       "3600                  0.0           -10955582.0                   0.0   \n",
       "7200                  0.0           -10891327.0                   0.0   \n",
       "10800                 0.0           -10986413.0                   0.0   \n",
       "14400                 0.0           -11105312.0                   0.0   \n",
       "18000                 0.0           -11151833.0                   0.0   \n",
       "\n",
       "       electricalGroup.Pgen  electricalGroup.Ppv  electricalGroup.Soc  \\\n",
       "Time                                                                    \n",
       "3600              7400128.0                  0.0                 0.25   \n",
       "7200              7633626.0                  0.0                 0.25   \n",
       "10800             7851213.5                  0.0                 0.25   \n",
       "14400             8088488.5                  0.0                 0.25   \n",
       "18000             8273101.5                  0.0                 0.25   \n",
       "\n",
       "       electricalGroup.Pbat  electricalGroup.Pgri.real  \n",
       "Time                                                    \n",
       "3600                    0.0                 3798746.50  \n",
       "7200             -1571770.8                   -2087.75  \n",
       "10800            -1571770.8                   -2555.10  \n",
       "14400            -1571770.8                   -1051.21  \n",
       "18000            -1571770.8                   -1015.82  "
      ]
     },
     "execution_count": 4,
     "metadata": {},
     "output_type": "execute_result"
    }
   ],
   "source": [
    "X.head()"
   ]
  },
  {
   "cell_type": "code",
   "execution_count": 5,
   "id": "49f15981-5e24-4ff5-ac0e-6c5291e6f281",
   "metadata": {
    "tags": []
   },
   "outputs": [
    {
     "data": {
      "text/html": [
       "<div>\n",
       "<style scoped>\n",
       "    .dataframe tbody tr th:only-of-type {\n",
       "        vertical-align: middle;\n",
       "    }\n",
       "\n",
       "    .dataframe tbody tr th {\n",
       "        vertical-align: top;\n",
       "    }\n",
       "\n",
       "    .dataframe thead th {\n",
       "        text-align: right;\n",
       "    }\n",
       "</style>\n",
       "<table border=\"1\" class=\"dataframe\">\n",
       "  <thead>\n",
       "    <tr style=\"text-align: right;\">\n",
       "      <th></th>\n",
       "      <th>electricalGroup.Ppv</th>\n",
       "      <th>electricalGroup.Soc</th>\n",
       "      <th>electricalGroup.Pbat</th>\n",
       "      <th>electricalGroup.Pgri.real</th>\n",
       "    </tr>\n",
       "    <tr>\n",
       "      <th>Time</th>\n",
       "      <th></th>\n",
       "      <th></th>\n",
       "      <th></th>\n",
       "      <th></th>\n",
       "    </tr>\n",
       "  </thead>\n",
       "  <tbody>\n",
       "    <tr>\n",
       "      <th>3600</th>\n",
       "      <td>0.0</td>\n",
       "      <td>0.25</td>\n",
       "      <td>-1571770.8</td>\n",
       "      <td>-2087.75</td>\n",
       "    </tr>\n",
       "    <tr>\n",
       "      <th>7200</th>\n",
       "      <td>0.0</td>\n",
       "      <td>0.25</td>\n",
       "      <td>-1571770.8</td>\n",
       "      <td>-2555.10</td>\n",
       "    </tr>\n",
       "    <tr>\n",
       "      <th>10800</th>\n",
       "      <td>0.0</td>\n",
       "      <td>0.25</td>\n",
       "      <td>-1571770.8</td>\n",
       "      <td>-1051.21</td>\n",
       "    </tr>\n",
       "    <tr>\n",
       "      <th>14400</th>\n",
       "      <td>0.0</td>\n",
       "      <td>0.25</td>\n",
       "      <td>-1571770.8</td>\n",
       "      <td>-1015.82</td>\n",
       "    </tr>\n",
       "    <tr>\n",
       "      <th>18000</th>\n",
       "      <td>0.0</td>\n",
       "      <td>0.25</td>\n",
       "      <td>-1571770.8</td>\n",
       "      <td>-1185.01</td>\n",
       "    </tr>\n",
       "  </tbody>\n",
       "</table>\n",
       "</div>"
      ],
      "text/plain": [
       "       electricalGroup.Ppv  electricalGroup.Soc  electricalGroup.Pbat  \\\n",
       "Time                                                                    \n",
       "3600                   0.0                 0.25            -1571770.8   \n",
       "7200                   0.0                 0.25            -1571770.8   \n",
       "10800                  0.0                 0.25            -1571770.8   \n",
       "14400                  0.0                 0.25            -1571770.8   \n",
       "18000                  0.0                 0.25            -1571770.8   \n",
       "\n",
       "       electricalGroup.Pgri.real  \n",
       "Time                              \n",
       "3600                    -2087.75  \n",
       "7200                    -2555.10  \n",
       "10800                   -1051.21  \n",
       "14400                   -1015.82  \n",
       "18000                   -1185.01  "
      ]
     },
     "execution_count": 5,
     "metadata": {},
     "output_type": "execute_result"
    }
   ],
   "source": [
    "y.head()"
   ]
  },
  {
   "cell_type": "code",
   "execution_count": 6,
   "id": "85e9cea7-01f7-453b-8996-82a36433cd5b",
   "metadata": {
    "tags": []
   },
   "outputs": [
    {
     "data": {
      "text/plain": [
       "(8760, 8)"
      ]
     },
     "execution_count": 6,
     "metadata": {},
     "output_type": "execute_result"
    }
   ],
   "source": [
    "X.shape"
   ]
  },
  {
   "cell_type": "code",
   "execution_count": 7,
   "id": "cbd95e1a-7178-4c00-a580-44c563f7d433",
   "metadata": {
    "tags": []
   },
   "outputs": [
    {
     "data": {
      "text/plain": [
       "(8760, 4)"
      ]
     },
     "execution_count": 7,
     "metadata": {},
     "output_type": "execute_result"
    }
   ],
   "source": [
    "y.shape"
   ]
  },
  {
   "cell_type": "code",
   "execution_count": 8,
   "id": "0e3836f1-d5cf-4ea0-997d-5d7b59e305ac",
   "metadata": {
    "tags": []
   },
   "outputs": [
    {
     "data": {
      "text/plain": [
       "1439    5184000\n",
       "1440    5187600\n",
       "1441    5191200\n",
       "1442    5194800\n",
       "1443    5198400\n",
       "         ...   \n",
       "2155    7761600\n",
       "2156    7765200\n",
       "2157    7768800\n",
       "2158    7772400\n",
       "2159    7776000\n",
       "Name: Time, Length: 721, dtype: int64"
      ]
     },
     "execution_count": 8,
     "metadata": {},
     "output_type": "execute_result"
    }
   ],
   "source": [
    "index = pd.Series(X.index)\n",
    "index[(index >= 2*30*86400) & (index<=3*30*86400)]"
   ]
  },
  {
   "cell_type": "code",
   "execution_count": 9,
   "id": "b95ac561-feb0-42fd-adf4-be71c227e269",
   "metadata": {
    "tags": []
   },
   "outputs": [],
   "source": [
    "month = 30*86400\n",
    "import numpy as np\n",
    "def split_data_20_10(X, y):\n",
    "    X_train, X_test, y_train, y_test = [], [], [], []\n",
    "    index = pd.Series(X.index)\n",
    "    for i in range(0, int(X.index[-1])//month):\n",
    "\n",
    "        index_filter = index[(index >= i*30*86400) & (index<=(i+1)*30*86400)]\n",
    "        \n",
    "        X_train.append(X.loc[index_filter[:int(len(index_filter)*0.7)]])\n",
    "        y_train.append(y.loc[index_filter[:int(len(index_filter)*0.7)]])\n",
    "        X_test.append(X.loc[index_filter[int(len(index_filter)*0.7):]])\n",
    "        y_test.append(y.loc[index_filter[int(len(index_filter)*0.7):]])\n",
    "\n",
    "    return np.vstack(X_train), np.vstack(X_test), np.vstack(y_train), np.vstack(y_test)"
   ]
  },
  {
   "cell_type": "code",
   "execution_count": 10,
   "id": "eb2c0795-ac13-4df8-9ddb-fd4f8fec0695",
   "metadata": {
    "tags": []
   },
   "outputs": [],
   "source": [
    "X_train, X_test, y_train, y_test = split_data_20_10(X, y)"
   ]
  },
  {
   "cell_type": "code",
   "execution_count": 11,
   "id": "6a1907fe-08c7-4983-a253-dbc9d65982ec",
   "metadata": {
    "tags": []
   },
   "outputs": [],
   "source": [
    "from sklearn.model_selection import train_test_split\n",
    "from sklearn.preprocessing import MinMaxScaler\n",
    "\n",
    "# Split the data\n",
    "# X_train, X_test, y_train, y_test = X.iloc[:int(0.8*len(X))], X.iloc[int(0.8*len(X)):], y.iloc[:int(0.8*len(y))], y.iloc[int(0.8*len(y)):]\n",
    "\n",
    "# Normalize the features\n",
    "scaler_X = MinMaxScaler().fit(X_train)\n",
    "X_train = scaler_X.transform(X_train)\n",
    "X_test = scaler_X.transform(X_test)\n",
    "\n",
    "scaler_y = MinMaxScaler().fit(y_train)\n",
    "y_train = scaler_y.transform(y_train)\n",
    "y_test = scaler_y.transform(y_test)\n",
    "\n"
   ]
  },
  {
   "cell_type": "code",
   "execution_count": 12,
   "id": "8fecde06-6f4e-4008-9024-1141fd414f31",
   "metadata": {
    "tags": []
   },
   "outputs": [
    {
     "data": {
      "text/plain": [
       "(6047, 8)"
      ]
     },
     "execution_count": 12,
     "metadata": {},
     "output_type": "execute_result"
    }
   ],
   "source": [
    "X_train.shape"
   ]
  },
  {
   "cell_type": "code",
   "execution_count": 15,
   "id": "e188a5b3-01c6-4fd2-a721-41a7d154abfe",
   "metadata": {
    "tags": []
   },
   "outputs": [
    {
     "data": {
      "text/plain": [
       "8"
      ]
     },
     "execution_count": 15,
     "metadata": {},
     "output_type": "execute_result"
    }
   ],
   "source": [
    "X_train.shape[1]"
   ]
  },
  {
   "cell_type": "code",
   "execution_count": 13,
   "id": "70c901d2-b61a-438b-aad8-2a6dd26e893d",
   "metadata": {
    "tags": []
   },
   "outputs": [],
   "source": [
    "import tensorflow as tf\n",
    "\n",
    "# Build the model\n",
    "model = tf.keras.Sequential([\n",
    "    tf.keras.layers.Dense(128, activation='sigmoid', input_shape=(X_train.shape[1],)),\n",
    "    tf.keras.layers.Dense(64, activation='sigmoid'),\n",
    "    tf.keras.layers.Dense(len(outputs)),  # Output layer with the same number of neurons as target features\n",
    "])\n",
    "\n",
    "# Compile the model\n",
    "model.compile(optimizer=tf.keras.optimizers.Adam(learning_rate = 0.001), loss='mean_squared_error', metrics=['mae']) \n"
   ]
  },
  {
   "cell_type": "code",
   "execution_count": 14,
   "id": "9dc18f8c-33cf-4ee3-9da8-0bb0aa5f85b3",
   "metadata": {
    "tags": []
   },
   "outputs": [
    {
     "ename": "ValueError",
     "evalue": "Cannot assign value to variable ' dense/kernel:0': Shape mismatch.The variable shape (8, 128), and the assigned value shape (11, 128) are incompatible.",
     "output_type": "error",
     "traceback": [
      "\u001b[1;31m---------------------------------------------------------------------------\u001b[0m",
      "\u001b[1;31mValueError\u001b[0m                                Traceback (most recent call last)",
      "Cell \u001b[1;32mIn[14], line 1\u001b[0m\n\u001b[1;32m----> 1\u001b[0m \u001b[43mmodel\u001b[49m\u001b[38;5;241;43m.\u001b[39;49m\u001b[43mload_weights\u001b[49m\u001b[43m(\u001b[49m\u001b[38;5;124;43m\"\u001b[39;49m\u001b[38;5;124;43mtrained_model_Electrical_ANN.h5\u001b[39;49m\u001b[38;5;124;43m\"\u001b[39;49m\u001b[43m)\u001b[49m\n",
      "File \u001b[1;32m~\\anaconda3\\envs\\pysparkenv\\lib\\site-packages\\keras\\src\\utils\\traceback_utils.py:70\u001b[0m, in \u001b[0;36mfilter_traceback.<locals>.error_handler\u001b[1;34m(*args, **kwargs)\u001b[0m\n\u001b[0;32m     67\u001b[0m     filtered_tb \u001b[38;5;241m=\u001b[39m _process_traceback_frames(e\u001b[38;5;241m.\u001b[39m__traceback__)\n\u001b[0;32m     68\u001b[0m     \u001b[38;5;66;03m# To get the full stack trace, call:\u001b[39;00m\n\u001b[0;32m     69\u001b[0m     \u001b[38;5;66;03m# `tf.debugging.disable_traceback_filtering()`\u001b[39;00m\n\u001b[1;32m---> 70\u001b[0m     \u001b[38;5;28;01mraise\u001b[39;00m e\u001b[38;5;241m.\u001b[39mwith_traceback(filtered_tb) \u001b[38;5;28;01mfrom\u001b[39;00m \u001b[38;5;28;01mNone\u001b[39;00m\n\u001b[0;32m     71\u001b[0m \u001b[38;5;28;01mfinally\u001b[39;00m:\n\u001b[0;32m     72\u001b[0m     \u001b[38;5;28;01mdel\u001b[39;00m filtered_tb\n",
      "File \u001b[1;32m~\\anaconda3\\envs\\pysparkenv\\lib\\site-packages\\keras\\src\\backend.py:4361\u001b[0m, in \u001b[0;36m_assign_value_to_variable\u001b[1;34m(variable, value)\u001b[0m\n\u001b[0;32m   4358\u001b[0m     variable\u001b[38;5;241m.\u001b[39massign(d_value)\n\u001b[0;32m   4359\u001b[0m \u001b[38;5;28;01melse\u001b[39;00m:\n\u001b[0;32m   4360\u001b[0m     \u001b[38;5;66;03m# For the normal tf.Variable assign\u001b[39;00m\n\u001b[1;32m-> 4361\u001b[0m     \u001b[43mvariable\u001b[49m\u001b[38;5;241;43m.\u001b[39;49m\u001b[43massign\u001b[49m\u001b[43m(\u001b[49m\u001b[43mvalue\u001b[49m\u001b[43m)\u001b[49m\n",
      "\u001b[1;31mValueError\u001b[0m: Cannot assign value to variable ' dense/kernel:0': Shape mismatch.The variable shape (8, 128), and the assigned value shape (11, 128) are incompatible."
     ]
    }
   ],
   "source": [
    "model.load_weights(\"trained_model_Electrical_ANN.h5\")"
   ]
  },
  {
   "cell_type": "code",
   "execution_count": null,
   "id": "5cc98db8-4d80-41f7-b27b-6346e4f3d9aa",
   "metadata": {},
   "outputs": [],
   "source": [
    "history = model.fit(X_train, y_train, epochs=800, batch_size=256, validation_split=0.2)\n",
    "\n",
    "test_loss, test_mae = model.evaluate(X_test, y_test)\n",
    "print(f\"Test Loss: {test_loss}, Test MAE: {test_mae}\")\n"
   ]
  },
  {
   "cell_type": "code",
   "execution_count": null,
   "id": "494fb475-b668-439c-841c-f8271ba42a43",
   "metadata": {},
   "outputs": [],
   "source": [
    "##Visualization:\n",
    "import matplotlib.pyplot as plt\n",
    "\n",
    "# Plot training & validation loss values\n",
    "plt.figure(figsize=(12, 6))\n",
    "plt.subplot(1, 2, 1)\n",
    "plt.plot(history.history['loss'])\n",
    "plt.plot(history.history['val_loss'])\n",
    "plt.title('Model Loss')\n",
    "plt.xlabel('Epoch')\n",
    "plt.ylabel('Loss')\n",
    "plt.legend(['Train', 'Validation'])\n",
    "\n",
    "# Plot training & validation mean absolute error values\n",
    "plt.subplot(1, 2, 2)\n",
    "plt.plot(history.history['mae'])\n",
    "plt.plot(history.history['val_mae'])\n",
    "plt.title('Model Mean Absolute Error')\n",
    "plt.xlabel('Epoch')\n",
    "plt.ylabel('Mean Absolute Error')\n",
    "plt.legend(['Train', 'Validation'])\n",
    "\n",
    "plt.show()\n"
   ]
  },
  {
   "cell_type": "code",
   "execution_count": null,
   "id": "46c69943-2b68-40ac-8139-77947f9573a7",
   "metadata": {},
   "outputs": [],
   "source": [
    "# Save the model\n",
    "model.save('trained_model_Electrical_ANN.h5')\n",
    "\n",
    "# Load the model (if needed)\n",
    "loaded_model = tf.keras.models.load_model('trained_model_Electrical_ANN.h5')\n"
   ]
  },
  {
   "cell_type": "code",
   "execution_count": null,
   "id": "2bd42b66-d437-4dd8-8bd6-768306704145",
   "metadata": {},
   "outputs": [],
   "source": [
    "# Make predictions\n",
    "y_pred = model.predict(X_test)\n",
    "\n",
    "# Convert predictions and actual values to DataFrames for easier manipulation\n",
    "predictions_df = pd.DataFrame(scaler_y.inverse_transform(y_pred), columns=outputs)\n",
    "actuals_df = pd.DataFrame(scaler_y.inverse_transform(y_test), columns=outputs)\n"
   ]
  },
  {
   "cell_type": "code",
   "execution_count": null,
   "id": "45c20818-3118-48c4-bafc-2a88174708dc",
   "metadata": {},
   "outputs": [],
   "source": [
    "import numpy as np\n",
    "import matplotlib.pyplot as plt\n",
    "from sklearn.metrics import mean_squared_error, mean_absolute_error, r2_score\n",
    "\n",
    "def calculate_metrics(actuals, predictions):\n",
    "    metrics = {}\n",
    "    for output in actuals.columns:\n",
    "        actual_values = actuals[output]\n",
    "        predicted_values = predictions[output]\n",
    "        \n",
    "        # Calculate metrics\n",
    "        mse = mean_squared_error(actual_values, predicted_values)\n",
    "        rmse = np.sqrt(mse)\n",
    "        mean_actual = np.mean(actual_values)\n",
    "        \n",
    "        # CVRMSE (Coefficient of Variation of RMSE)\n",
    "        cvrmse = (rmse / mean_actual) * 100\n",
    "        \n",
    "        # NMBE (Normalized Mean Bias Error)\n",
    "        nmbe = (np.mean(predicted_values - actual_values) / mean_actual) * 100\n",
    "        \n",
    "        # R2 (Coefficient of Determination)\n",
    "        r2 = r2_score(actual_values, predicted_values)\n",
    "        \n",
    "        metrics[output] = {'CVRMSE': cvrmse, 'NMBE': nmbe, 'R2': r2}\n",
    "    return metrics\n",
    "\n",
    "def plot_actual_vs_predicted(actuals, predictions, output_names):\n",
    "    metrics = calculate_metrics(actuals, predictions)\n",
    "    \n",
    "    num_outputs = len(output_names)\n",
    "    plt.figure(figsize=(15, num_outputs * 5))\n",
    "    \n",
    "    for i, output in enumerate(output_names):\n",
    "        plt.subplot(num_outputs, 1, i + 1)\n",
    "        plt.plot(actuals.index, actuals[output], label='Actual', color='blue', linestyle='--')\n",
    "        plt.plot(predictions.index, predictions[output], label='Predicted', color='red', linestyle='-')\n",
    "        \n",
    "        # Retrieve metrics for current output\n",
    "        cvrmse = metrics[output]['CVRMSE']\n",
    "        nmbe = metrics[output]['NMBE']\n",
    "        r2 = metrics[output]['R2']\n",
    "        \n",
    "        # Print metrics on plot\n",
    "        plt.title(f'Actual vs. Predicted for {output}')\n",
    "        plt.xlabel('Sample Index')\n",
    "        plt.ylabel(output)\n",
    "        plt.legend()\n",
    "        plt.text(0.05, 0.95, f'CVRMSE: {cvrmse:.2f}%', transform=plt.gca().transAxes, fontsize=12, verticalalignment='top')\n",
    "        plt.text(0.05, 0.90, f'NMBE: {nmbe:.2f}%', transform=plt.gca().transAxes, fontsize=12, verticalalignment='top')\n",
    "        plt.text(0.05, 0.85, f'R2: {r2:.2f}', transform=plt.gca().transAxes, fontsize=12, verticalalignment='top')\n",
    "    \n",
    "    plt.tight_layout()\n",
    "    plt.show()\n",
    "\n",
    "# Call the updated plotting function\n",
    "plot_actual_vs_predicted(actuals_df, predictions_df, outputs)\n"
   ]
  },
  {
   "cell_type": "code",
   "execution_count": null,
   "id": "0b357d1f-c16d-4e6a-ab4e-6a6819784f1c",
   "metadata": {},
   "outputs": [],
   "source": []
  },
  {
   "cell_type": "code",
   "execution_count": null,
   "id": "bfc01a1b-5b09-4fac-ac8e-fb6c9643fba9",
   "metadata": {},
   "outputs": [],
   "source": []
  },
  {
   "cell_type": "code",
   "execution_count": null,
   "id": "a7868757-2625-4920-92e0-18b32a9b13e6",
   "metadata": {},
   "outputs": [],
   "source": []
  }
 ],
 "metadata": {
  "kernelspec": {
   "display_name": "Python [conda env:pysparkenv]",
   "language": "python",
   "name": "conda-env-pysparkenv-py"
  },
  "language_info": {
   "codemirror_mode": {
    "name": "ipython",
    "version": 3
   },
   "file_extension": ".py",
   "mimetype": "text/x-python",
   "name": "python",
   "nbconvert_exporter": "python",
   "pygments_lexer": "ipython3",
   "version": "3.8.18"
  }
 },
 "nbformat": 4,
 "nbformat_minor": 5
}
